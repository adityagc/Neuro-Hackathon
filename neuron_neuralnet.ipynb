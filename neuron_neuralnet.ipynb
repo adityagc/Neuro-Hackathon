{
 "cells": [
  {
   "cell_type": "code",
   "execution_count": 21,
   "metadata": {},
   "outputs": [],
   "source": [
    "import numpy as np\n",
    "import sklearn as sk\n",
    "from sklearn.neural_network import MLPClassifier\n",
    "import pickle as pk\n",
    "from sklearn.metrics import accuracy_score\n",
    "import keras as kr\n",
    "from sklearn.model_selection import train_test_split"
   ]
  },
  {
   "cell_type": "code",
   "execution_count": 6,
   "metadata": {},
   "outputs": [],
   "source": [
    "from keras.models import Sequential\n",
    "from keras.layers import Dense\n",
    "import matplotlib.pyplot as plt"
   ]
  },
  {
   "cell_type": "code",
   "execution_count": 8,
   "metadata": {},
   "outputs": [
    {
     "name": "stdout",
     "output_type": "stream",
     "text": [
      "(170, 1500)\n"
     ]
    }
   ],
   "source": [
    "#Reading data files\n",
    "\n",
    "reaches = np.genfromtxt(\"reaches2\",delimiter=',')\n",
    "reachstart = np.genfromtxt(\"reachStart2\",delimiter=',')\n",
    "ampvel = np.genfromtxt(\"ampVel2\",delimiter=',')\n",
    "tss = np.genfromtxt(\"tss2\",delimiter=',')\n",
    "rewtime = np.genfromtxt(\"rewTime2\",delimiter=',')\n",
    "temp = np.zeros((int(max(reachstart))+1500))\n",
    "print(np.shape(reaches))"
   ]
  },
  {
   "cell_type": "code",
   "execution_count": 5,
   "metadata": {},
   "outputs": [
    {
     "name": "stdout",
     "output_type": "stream",
     "text": [
      "(170, 1500)\n"
     ]
    }
   ],
   "source": [
    "print(np.shape(reaches))"
   ]
  },
  {
   "cell_type": "code",
   "execution_count": 9,
   "metadata": {},
   "outputs": [],
   "source": [
    "#initialize matrix\n",
    "count = 0\n",
    "counter = np.zeros(int(tss.shape[0]))\n",
    "X=np.zeros((int(reaches.shape[0])*2,len(counter)+1))"
   ]
  },
  {
   "cell_type": "code",
   "execution_count": 15,
   "metadata": {
    "scrolled": true
   },
   "outputs": [
    {
     "name": "stdout",
     "output_type": "stream",
     "text": [
      "0\n",
      "1\n",
      "2\n",
      "3\n",
      "4\n",
      "5\n",
      "6\n",
      "7\n",
      "8\n",
      "9\n",
      "10\n",
      "11\n",
      "12\n",
      "13\n",
      "14\n",
      "15\n",
      "16\n",
      "17\n",
      "18\n",
      "19\n",
      "20\n",
      "21\n",
      "22\n",
      "23\n",
      "24\n",
      "25\n",
      "26\n",
      "27\n",
      "28\n",
      "29\n",
      "30\n",
      "31\n",
      "32\n",
      "33\n",
      "34\n",
      "35\n",
      "36\n",
      "37\n",
      "38\n",
      "39\n",
      "40\n",
      "41\n",
      "42\n",
      "43\n",
      "44\n",
      "45\n",
      "46\n",
      "47\n",
      "48\n",
      "49\n",
      "50\n",
      "51\n",
      "52\n",
      "53\n",
      "54\n",
      "55\n",
      "56\n",
      "57\n",
      "58\n",
      "59\n",
      "60\n",
      "61\n",
      "62\n",
      "63\n",
      "64\n",
      "65\n",
      "66\n",
      "67\n",
      "68\n",
      "69\n",
      "70\n",
      "71\n",
      "72\n",
      "73\n",
      "74\n",
      "75\n",
      "76\n",
      "77\n",
      "78\n",
      "79\n",
      "80\n",
      "81\n",
      "82\n",
      "83\n",
      "84\n",
      "85\n",
      "86\n",
      "87\n",
      "88\n",
      "89\n",
      "90\n",
      "91\n",
      "92\n",
      "93\n",
      "94\n",
      "95\n",
      "96\n",
      "97\n",
      "98\n",
      "99\n",
      "100\n",
      "101\n",
      "102\n",
      "103\n",
      "104\n",
      "105\n",
      "106\n",
      "107\n",
      "108\n",
      "109\n",
      "110\n",
      "111\n",
      "112\n",
      "113\n",
      "114\n",
      "115\n",
      "116\n",
      "117\n",
      "118\n",
      "119\n",
      "120\n",
      "121\n",
      "122\n",
      "123\n",
      "124\n",
      "125\n",
      "126\n",
      "127\n",
      "128\n",
      "129\n",
      "130\n",
      "131\n",
      "132\n",
      "133\n",
      "134\n",
      "135\n",
      "136\n",
      "137\n",
      "138\n",
      "139\n",
      "140\n",
      "141\n",
      "142\n",
      "143\n",
      "144\n",
      "145\n",
      "146\n",
      "147\n",
      "148\n",
      "149\n",
      "150\n",
      "151\n",
      "152\n",
      "153\n",
      "154\n",
      "155\n",
      "156\n",
      "157\n",
      "158\n",
      "159\n",
      "160\n",
      "161\n",
      "162\n",
      "163\n",
      "164\n",
      "165\n",
      "166\n",
      "167\n",
      "168\n",
      "169\n"
     ]
    }
   ],
   "source": [
    "# Counting neuron firing based on reaches\n",
    "# Constructing feature matrix to be fed to neural networks\n",
    "def calcu(st,et,label,itr):\n",
    "    for i in range(len(counter)):\n",
    "        for j in range(int(counter[i]),len(tss[i])):\n",
    "            if(tss[i][j] > et):\n",
    "                break\n",
    "            if(tss[i][j] >= st and tss[i][j] <= et):\n",
    "                X[itr][i]=X[itr][i]+1\n",
    "                counter[i]=counter[i]+1\n",
    "    X[itr][-1]=label\n",
    "for i in range(0,len(reachstart)):\n",
    "    print(i)\n",
    "    calcu(reachstart[i] - 500,reachstart[i] + 1000,1,i*2)\n",
    "    if(i < len(reachstart) - 1):\n",
    "        calcu(reachstart[i] + 1000,reachstart[i + 1],0,(i*2)+1)"
   ]
  },
  {
   "cell_type": "code",
   "execution_count": 46,
   "metadata": {
    "scrolled": true
   },
   "outputs": [
    {
     "name": "stdout",
     "output_type": "stream",
     "text": [
      "(385, 90631)\n",
      "(340, 386)\n",
      "(340, 385)\n",
      "(340,)\n"
     ]
    }
   ],
   "source": [
    "#Making sure dimensions match\n",
    "\n",
    "XTrain = X[:,0:-1]\n",
    "YTrain = X[:,-1]\n",
    "print(tss.shape)\n",
    "print(X.shape)\n",
    "print(XTrain.shape)\n",
    "print(YTrain.shape)\n",
    "np.random.seed(7)"
   ]
  },
  {
   "cell_type": "code",
   "execution_count": 47,
   "metadata": {},
   "outputs": [],
   "source": [
    "#Run if samples need to be shuffled\n",
    "#  X_train, X_test, y_train, y_test = train_test_split(XTrain, YTrain, test_size=0.33)\n",
    "# X_train.shape"
   ]
  },
  {
   "cell_type": "code",
   "execution_count": 94,
   "metadata": {},
   "outputs": [],
   "source": [
    "#Test train split\n",
    "\n",
    "X_train = XTrain[0:250,:]\n",
    "Y_train = YTrain[0:250]\n",
    "X_test = XTrain[250:,:]\n",
    "Y_test = YTrain[250:]"
   ]
  },
  {
   "cell_type": "code",
   "execution_count": 95,
   "metadata": {},
   "outputs": [],
   "source": [
    "#Neural network with 1 hidden layer\n",
    "\n",
    "model = Sequential()\n",
    "layer1 = Dense(100, input_dim=385, activation='relu')\n",
    "model.add(layer1)\n",
    "layer2 = Dense(1, activation='sigmoid')\n",
    "model.add(layer2)"
   ]
  },
  {
   "cell_type": "code",
   "execution_count": 96,
   "metadata": {
    "scrolled": true
   },
   "outputs": [
    {
     "name": "stdout",
     "output_type": "stream",
     "text": [
      "Epoch 1/50\n",
      " - 0s - loss: 3.4621 - acc: 0.5520\n",
      "Epoch 2/50\n",
      " - 0s - loss: 1.2791 - acc: 0.7680\n",
      "Epoch 3/50\n",
      " - 0s - loss: 1.6694 - acc: 0.6000\n",
      "Epoch 4/50\n",
      " - 0s - loss: 0.6236 - acc: 0.8320\n",
      "Epoch 5/50\n",
      " - 0s - loss: 0.5237 - acc: 0.9200\n",
      "Epoch 6/50\n",
      " - 0s - loss: 0.3011 - acc: 0.8920\n",
      "Epoch 7/50\n",
      " - 0s - loss: 0.3841 - acc: 0.8800\n",
      "Epoch 8/50\n",
      " - 0s - loss: 0.2350 - acc: 0.9560\n",
      "Epoch 9/50\n",
      " - 0s - loss: 0.2276 - acc: 0.9720\n",
      "Epoch 10/50\n",
      " - 0s - loss: 0.1260 - acc: 0.9880\n",
      "Epoch 11/50\n",
      " - 0s - loss: 0.0835 - acc: 0.9800\n",
      "Epoch 12/50\n",
      " - 0s - loss: 0.1072 - acc: 0.9680\n",
      "Epoch 13/50\n",
      " - 0s - loss: 0.0681 - acc: 0.9880\n",
      "Epoch 14/50\n",
      " - 0s - loss: 0.0365 - acc: 0.9960\n",
      "Epoch 15/50\n",
      " - 0s - loss: 0.0104 - acc: 0.9960\n",
      "Epoch 16/50\n",
      " - 0s - loss: 0.0066 - acc: 1.0000\n",
      "Epoch 17/50\n",
      " - 0s - loss: 0.0041 - acc: 1.0000\n",
      "Epoch 18/50\n",
      " - 0s - loss: 0.0035 - acc: 1.0000\n",
      "Epoch 19/50\n",
      " - 0s - loss: 0.0028 - acc: 1.0000\n",
      "Epoch 20/50\n",
      " - 0s - loss: 0.0027 - acc: 1.0000\n",
      "Epoch 21/50\n",
      " - 0s - loss: 0.0025 - acc: 1.0000\n",
      "Epoch 22/50\n",
      " - 0s - loss: 0.0023 - acc: 1.0000\n",
      "Epoch 23/50\n",
      " - 0s - loss: 0.0021 - acc: 1.0000\n",
      "Epoch 24/50\n",
      " - 0s - loss: 0.0020 - acc: 1.0000\n",
      "Epoch 25/50\n",
      " - 0s - loss: 0.0019 - acc: 1.0000\n",
      "Epoch 26/50\n",
      " - 0s - loss: 0.0018 - acc: 1.0000\n",
      "Epoch 27/50\n",
      " - 0s - loss: 0.0018 - acc: 1.0000\n",
      "Epoch 28/50\n",
      " - 0s - loss: 0.0017 - acc: 1.0000\n",
      "Epoch 29/50\n",
      " - 0s - loss: 0.0016 - acc: 1.0000\n",
      "Epoch 30/50\n",
      " - 0s - loss: 0.0016 - acc: 1.0000\n",
      "Epoch 31/50\n",
      " - 0s - loss: 0.0015 - acc: 1.0000\n",
      "Epoch 32/50\n",
      " - 0s - loss: 0.0015 - acc: 1.0000\n",
      "Epoch 33/50\n",
      " - 0s - loss: 0.0014 - acc: 1.0000\n",
      "Epoch 34/50\n",
      " - 0s - loss: 0.0014 - acc: 1.0000\n",
      "Epoch 35/50\n",
      " - 0s - loss: 0.0014 - acc: 1.0000\n",
      "Epoch 36/50\n",
      " - 0s - loss: 0.0013 - acc: 1.0000\n",
      "Epoch 37/50\n",
      " - 0s - loss: 0.0013 - acc: 1.0000\n",
      "Epoch 38/50\n",
      " - 0s - loss: 0.0012 - acc: 1.0000\n",
      "Epoch 39/50\n",
      " - 0s - loss: 0.0012 - acc: 1.0000\n",
      "Epoch 40/50\n",
      " - 0s - loss: 0.0012 - acc: 1.0000\n",
      "Epoch 41/50\n",
      " - 0s - loss: 0.0011 - acc: 1.0000\n",
      "Epoch 42/50\n",
      " - 0s - loss: 0.0011 - acc: 1.0000\n",
      "Epoch 43/50\n",
      " - 0s - loss: 0.0011 - acc: 1.0000\n",
      "Epoch 44/50\n",
      " - 0s - loss: 0.0011 - acc: 1.0000\n",
      "Epoch 45/50\n",
      " - 0s - loss: 0.0010 - acc: 1.0000\n",
      "Epoch 46/50\n",
      " - 0s - loss: 0.0010 - acc: 1.0000\n",
      "Epoch 47/50\n",
      " - 0s - loss: 9.8741e-04 - acc: 1.0000\n",
      "Epoch 48/50\n",
      " - 0s - loss: 9.6615e-04 - acc: 1.0000\n",
      "Epoch 49/50\n",
      " - 0s - loss: 9.4578e-04 - acc: 1.0000\n",
      "Epoch 50/50\n",
      " - 0s - loss: 9.2656e-04 - acc: 1.0000\n"
     ]
    }
   ],
   "source": [
    "#Training network\n",
    "\n",
    "model.compile(loss='binary_crossentropy', optimizer='adam', metrics=['accuracy'])\n",
    "neuralnet = model.fit(X_train, Y_train, epochs=50, batch_size=50,  verbose=2)"
   ]
  },
  {
   "cell_type": "code",
   "execution_count": 97,
   "metadata": {},
   "outputs": [
    {
     "data": {
      "image/png": "[encoded data removed]",
      "text/plain": [
       "<Figure size 432x288 with 1 Axes>"
      ]
     },
     "metadata": {},
     "output_type": "display_data"
    }
   ],
   "source": [
    "#Loss versus epochs\n",
    "\n",
    "plt.plot(neuralnet.history['loss'],'-o')\n",
    "plt.title(\"Model loss vs epoch number\")\n",
    "plt.xlabel(\"Epoch number\")\n",
    "plt.ylabel(\"Loss (ratio)\")\n",
    "plt.legend(\"SGD\")\n",
    "plt.grid()\n",
    "plt.show()"
   ]
  },
  {
   "cell_type": "code",
   "execution_count": 81,
   "metadata": {},
   "outputs": [],
   "source": [
    "#predictions\n",
    "\n",
    "y_pred = model.predict(X_test)\n",
    "rounded = [round(x[0]) for x in y_pred]"
   ]
  },
  {
   "cell_type": "code",
   "execution_count": 82,
   "metadata": {},
   "outputs": [
    {
     "name": "stdout",
     "output_type": "stream",
     "text": [
      "90/90 [==============================] - 0s 1ms/step\n",
      "\n",
      "acc: 92.22%\n"
     ]
    }
   ],
   "source": [
    "#Reporting accuracy\n",
    "\n",
    "scores = model.evaluate(X_test, Y_test)\n",
    "print(\"\\n%s: %.2f%%\" % (model.metrics_names[1], scores[1]*100))"
   ]
  },
  {
   "cell_type": "code",
   "execution_count": 83,
   "metadata": {},
   "outputs": [
    {
     "name": "stdout",
     "output_type": "stream",
     "text": [
      "[1. 0. 1. 0. 1. 0. 1. 0. 1. 0. 1. 0. 1. 0. 1. 0. 1. 0. 1. 0. 1. 0. 1. 0.\n",
      " 1. 0. 1. 0. 1. 0. 1. 0. 1. 0. 1. 0. 1. 0. 1. 0. 1. 0. 1. 0. 1. 0. 1. 0.\n",
      " 1. 0. 1. 0. 1. 0. 1. 0. 1. 0. 1. 0. 1. 0. 1. 0. 1. 0. 1. 0. 1. 0. 1. 0.\n",
      " 1. 0. 1. 0. 1. 0. 1. 0. 1. 0. 1. 0. 1. 0. 1. 0. 1. 0.]\n",
      "[1.0, 0.0, 1.0, 0.0, 1.0, 0.0, 1.0, 0.0, 1.0, 0.0, 1.0, 0.0, 1.0, 0.0, 1.0, 0.0, 1.0, 0.0, 1.0, 0.0, 1.0, 0.0, 1.0, 0.0, 1.0, 0.0, 1.0, 0.0, 1.0, 0.0, 1.0, 0.0, 1.0, 0.0, 1.0, 0.0, 1.0, 0.0, 1.0, 0.0, 1.0, 0.0, 1.0, 0.0, 1.0, 0.0, 1.0, 0.0, 1.0, 0.0, 1.0, 0.0, 1.0, 0.0, 1.0, 0.0, 1.0, 0.0, 1.0, 0.0, 1.0, 0.0, 1.0, 0.0, 1.0, 0.0, 1.0, 1.0, 1.0, 1.0, 1.0, 0.0, 1.0, 0.0, 1.0, 0.0, 1.0, 1.0, 1.0, 1.0, 1.0, 0.0, 0.0, 0.0, 1.0, 1.0, 1.0, 0.0, 1.0, 1.0]\n"
     ]
    }
   ],
   "source": [
    "#comparing test with predictions\n",
    "\n",
    "print(Y_test)\n",
    "print(rounded)"
   ]
  },
  {
   "cell_type": "code",
   "execution_count": 84,
   "metadata": {},
   "outputs": [
    {
     "name": "stdout",
     "output_type": "stream",
     "text": [
      "(385, 100)\n"
     ]
    }
   ],
   "source": [
    "#Getting weights\n",
    "\n",
    "weightmatrix = layer1.get_weights()\n",
    "# wt2 = layer2.get_weights()\n",
    "# print(wt2)\n",
    "#print(len(weightmatrix[0]))\n",
    "mat = np.asarray(weightmatrix[0])\n",
    "print(np.shape(mat))\n",
    "np.savetxt(\"weights.txt\",mat)"
   ]
  },
  {
   "cell_type": "code",
   "execution_count": 85,
   "metadata": {},
   "outputs": [],
   "source": [
    "#Getting mean of weights for each neuron\n",
    "\n",
    "meanvec = np.mean(mat, axis =1)"
   ]
  },
  {
   "cell_type": "code",
   "execution_count": 87,
   "metadata": {},
   "outputs": [
    {
     "name": "stdout",
     "output_type": "stream",
     "text": [
      "(385,)\n"
     ]
    }
   ],
   "source": [
    "print(meanvec.shape)"
   ]
  },
  {
   "cell_type": "code",
   "execution_count": 100,
   "metadata": {},
   "outputs": [
    {
     "name": "stdout",
     "output_type": "stream",
     "text": [
      "[7, 25, 29, 49, 66, 75, 91, 111, 114, 119, 123, 126, 137, 138, 145, 154, 191, 207, 209, 238, 245, 253, 270, 271, 272, 278, 303, 322, 325, 334, 348, 353]\n",
      "\n",
      "[1, 4, 8, 10, 23, 32, 41, 50, 74, 81, 85, 87, 103, 104, 121, 131, 132, 140, 165, 174, 183, 204, 220, 240, 246, 249, 259, 287, 288, 291, 294, 298, 337, 338, 358, 367, 377]\n",
      "\n",
      "[0, 2, 3, 5, 6, 9, 11, 12, 13, 14, 15, 16, 17, 18, 19, 20, 21, 22, 24, 26, 27, 28, 30, 31, 33, 34, 35, 36, 37, 38, 39, 40, 42, 43, 44, 45, 46, 47, 48, 51, 52, 53, 54, 55, 56, 57, 58, 59, 60, 61, 62, 63, 64, 65, 67, 68, 69, 70, 71, 72, 73, 76, 77, 78, 79, 80, 82, 83, 84, 86, 88, 89, 90, 92, 93, 94, 95, 96, 97, 98, 99, 100, 101, 102, 105, 106, 107, 108, 109, 110, 112, 113, 115, 116, 117, 118, 120, 122, 124, 125, 127, 128, 129, 130, 133, 134, 135, 136, 139, 141, 142, 143, 144, 146, 147, 148, 149, 150, 151, 152, 153, 155, 156, 157, 158, 159, 160, 161, 162, 163, 164, 166, 167, 168, 169, 170, 171, 172, 173, 175, 176, 177, 178, 179, 180, 181, 182, 184, 185, 186, 187, 188, 189, 190, 192, 193, 194, 195, 196, 197, 198, 199, 200, 201, 202, 203, 205, 206, 208, 210, 211, 212, 213, 214, 215, 216, 217, 218, 219, 221, 222, 223, 224, 225, 226, 227, 228, 229, 230, 231, 232, 233, 234, 235, 236, 237, 239, 241, 242, 243, 244, 247, 248, 250, 251, 252, 254, 255, 256, 257, 258, 260, 261, 262, 263, 264, 265, 266, 267, 268, 269, 273, 274, 275, 276, 277, 279, 280, 281, 282, 283, 284, 285, 286, 289, 290, 292, 293, 295, 296, 297, 299, 300, 301, 302, 304, 305, 306, 307, 308, 309, 310, 311, 312, 313, 314, 315, 316, 317, 318, 319, 320, 321, 323, 324, 326, 327, 328, 329, 330, 331, 332, 333, 335, 336, 339, 340, 341, 342, 343, 344, 345, 346, 347, 349, 350, 351, 352, 354, 355, 356, 357, 359, 360, 361, 362, 363, 364, 365, 366, 368, 369, 370, 371, 372, 373, 374, 375, 376, 378, 379, 380, 381, 382, 383, 384]\n"
     ]
    }
   ],
   "source": [
    "#Labeling neuron based on motion\n",
    "\n",
    "positive = []\n",
    "posvals = []\n",
    "negative = []\n",
    "negvals = []\n",
    "noact = []\n",
    "noactvals = []\n",
    "for i in range(0, len(meanvec)):\n",
    "    if (meanvec[i] < -0.01):\n",
    "        negative.append(i)\n",
    "        negvals.append(meanvec[i])\n",
    "    elif (meanvec[i] > 0.01):\n",
    "        positive.append(i)\n",
    "        posvals.append(meanvec[i])\n",
    "    else:\n",
    "        noact.append(i)\n",
    "        noactvals.append(meanvec[i])\n",
    "print(positive)\n",
    "print()\n",
    "print(negative)\n",
    "print()\n",
    "print(noact)"
   ]
  },
  {
   "cell_type": "code",
   "execution_count": 146,
   "metadata": {},
   "outputs": [
    {
     "name": "stdout",
     "output_type": "stream",
     "text": [
      "0.08490566037735849\n",
      "0.07462686567164178\n"
     ]
    }
   ],
   "source": [
    "#Motion neuron density calculation\n",
    "\n",
    "crossover = len(meanvec) - 67\n",
    "\n",
    "shallow_motion = sum(i > crossover for i in positive)\n",
    "deep_motion = len(positive) - shallow_motion\n",
    "\n",
    "shallow_both = sum(i > crossover for i in noact)\n",
    "deep_both = len(noact) - shallow_both\n",
    "\n",
    "shallow_negative = sum(i > crossover for i in negative)\n",
    "deep_negative = len(negative) - shallow_negative\n",
    "\n",
    "\n",
    "shallow_active_density = float( shallow_motion) / 67.0\n",
    "deep_active_density = float( deep_motion) / float(crossover)\n",
    "\n",
    "print(deep_active_density)\n",
    "print(shallow_active_density)"
   ]
  },
  {
   "cell_type": "code",
   "execution_count": 120,
   "metadata": {},
   "outputs": [
    {
     "data": {
      "image/png": "[encoded data removed]",
      "text/plain": [
       "<Figure size 1008x720 with 1 Axes>"
      ]
     },
     "metadata": {},
     "output_type": "display_data"
    }
   ],
   "source": [
    "#Plotting neuron activity\n",
    "\n",
    "plt.figure(figsize=(14,10))\n",
    "plt.scatter(positive,posvals)\n",
    "plt.scatter(negative,negvals)\n",
    "plt.scatter(noact,noactvals)\n",
    "plt.axvline(x=315)\n",
    "plt.legend(['partition','motion','no-motion','motion & no-motion'])\n",
    "plt.show()"
   ]
  }
 ],
 "metadata": {
  "kernelspec": {
   "display_name": "Python 3",
   "language": "python",
   "name": "python3"
  },
  "language_info": {
   "codemirror_mode": {
    "name": "ipython",
    "version": 3
   },
   "file_extension": ".py",
   "mimetype": "text/x-python",
   "name": "python",
   "nbconvert_exporter": "python",
   "pygments_lexer": "ipython3",
   "version": "3.6.5"
  }
 },
 "nbformat": 4,
 "nbformat_minor": 2
}
